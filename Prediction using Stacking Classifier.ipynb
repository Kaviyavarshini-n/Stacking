{
  "nbformat": 4,
  "nbformat_minor": 0,
  "metadata": {
    "colab": {
      "provenance": []
    },
    "kernelspec": {
      "name": "python3",
      "display_name": "Python 3"
    }
  },
  "cells": [
    {
      "cell_type": "code",
      "metadata": {
        "id": "aFBMuielhbui"
      },
      "source": [
        "import pandas as pd\n",
        "import numpy as np\n",
        "import matplotlib.pyplot as plt\n",
        "import seaborn as sns\n",
        "from sklearn.metrics import accuracy_score\n",
        "from sklearn import metrics\n",
        "import warnings\n",
        "warnings.filterwarnings(\"ignore\")\n",
        "\n",
        "df = pd.read_csv('/content/sample_data/heart1.csv')"
      ],
      "execution_count": null,
      "outputs": []
    },
    {
      "cell_type": "code",
      "metadata": {
        "id": "5DNfR8iAhxBe"
      },
      "source": [
        "y = df['target']\n",
        "X = df.drop(['target'], axis = 1)"
      ],
      "execution_count": null,
      "outputs": []
    },
    {
      "cell_type": "code",
      "metadata": {
        "id": "OpTJfVrGh4Ie"
      },
      "source": [
        "# Data Normalization\n",
        "X = (X - X.min())/(X.max()-X.min())"
      ],
      "execution_count": null,
      "outputs": []
    },
    {
      "cell_type": "code",
      "metadata": {
        "id": "YMquCpUqh6C-"
      },
      "source": [
        "from sklearn.model_selection import train_test_split\n",
        "X_train,X_test,y_train,y_test=train_test_split(X,y,test_size=0.25,random_state=63)"
      ],
      "execution_count": null,
      "outputs": []
    },
    {
      "cell_type": "code",
      "metadata": {
        "colab": {
          "base_uri": "https://localhost:8080/"
        },
        "id": "wRXxSPoLiAbn",
        "outputId": "dec176f6-be86-4098-8612-41259598edeb"
      },
      "source": [
        "#Support Vector Machines (SVM) Model\n",
        "from sklearn.svm import SVC\n",
        "svm = SVC(kernel='linear',C=2)\n",
        "svm.fit(X_train,y_train)\n",
        "pre_svm=svm.predict(X_test)\n",
        "score = svm.score(X_train, y_train)\n",
        "score1 = svm.score(X_test, y_test)\n",
        "confusion_matrix = metrics.confusion_matrix(y_test, pre_svm)\n",
        "print(\"\\nSupport Vector Machine\")\n",
        "print(\"Confusion Matrix\")\n",
        "print(confusion_matrix)\n",
        "print(\"Accuracy:\",score1)"
      ],
      "execution_count": null,
      "outputs": [
        {
          "output_type": "stream",
          "text": [
            "\n",
            "Support Vector Machine\n",
            "Confusion Matrix\n",
            "[[ 25  17]\n",
            " [  8 106]]\n",
            "Accuracy: 0.8397435897435898\n"
          ],
          "name": "stdout"
        }
      ]
    },
    {
      "cell_type": "code",
      "metadata": {
        "colab": {
          "base_uri": "https://localhost:8080/"
        },
        "id": "8ih5SiJNij_i",
        "outputId": "9bb67373-72ba-4e56-f3ec-a1d96efa6f89"
      },
      "source": [
        "#Adaboost\n",
        "from sklearn.ensemble import AdaBoostClassifier\n",
        "abc = AdaBoostClassifier(n_estimators=50,learning_rate=1,random_state=20)\n",
        "abc = abc.fit(X_test, y_test)\n",
        "pre_abc=abc.predict(X_test)\n",
        "score = abc.score(X_train, y_train)\n",
        "score1 = abc.score(X_test, y_test)\n",
        "confusion_matrix = metrics.confusion_matrix(y_test, pre_abc)\n",
        "print(\"\\nAdaboost\")\n",
        "print(\"Confusion Matrix\")\n",
        "print(confusion_matrix)\n",
        "print(\"Accuracy:\",score1)"
      ],
      "execution_count": null,
      "outputs": [
        {
          "output_type": "stream",
          "text": [
            "\n",
            "Adaboost\n",
            "Confusion Matrix\n",
            "[[ 41   1]\n",
            " [  0 114]]\n",
            "Accuracy: 0.9935897435897436\n"
          ],
          "name": "stdout"
        }
      ]
    },
    {
      "cell_type": "code",
      "metadata": {
        "colab": {
          "base_uri": "https://localhost:8080/"
        },
        "id": "lBSt7qDSivfB",
        "outputId": "3441ff4e-3244-41e8-d4de-e0f079e30f44"
      },
      "source": [
        "from xgboost import XGBClassifier\n",
        "xgb=XGBClassifier(learning_rate=1)\n",
        "xgb.fit(X_train, y_train)\n",
        "xgb_pre=xgb.predict(X_test)\n",
        "score1 = xgb.score(X_test,y_test)\n",
        "print(\"Accuracy:\",score1)"
      ],
      "execution_count": null,
      "outputs": [
        {
          "output_type": "stream",
          "text": [
            "Accuracy: 0.9358974358974359\n"
          ],
          "name": "stdout"
        }
      ]
    },
    {
      "cell_type": "markdown",
      "metadata": {
        "id": "V7p1WZBcwhUv"
      },
      "source": [
        "Tuning"
      ]
    },
    {
      "cell_type": "code",
      "metadata": {
        "id": "kBStHdmF_EPb"
      },
      "source": [
        "search_space = [\n",
        "  {\n",
        "    'clf__n_estimators': [50, 100, 150, 200],\n",
        "    'clf__learning_rate': [0.01, 0.1, 0.2, 0.3],\n",
        "    'clf__max_depth': range(3, 10),\n",
        "    'clf__colsample_bytree': [i/10.0 for i in range(1, 3)],\n",
        "    'clf__gamma': [i/10.0 for i in range(3)],\n",
        "    'fs__k': [10],\n",
        "  }\n",
        "]"
      ],
      "execution_count": null,
      "outputs": []
    },
    {
      "cell_type": "code",
      "metadata": {
        "id": "xYOlsCnKwjtw"
      },
      "source": [
        "model = GridSearchCV(xgb, param_grid=search_space, cv=10, verbose=1, n_jobs=-1)"
      ],
      "execution_count": null,
      "outputs": []
    },
    {
      "cell_type": "code",
      "metadata": {
        "colab": {
          "base_uri": "https://localhost:8080/"
        },
        "id": "SebWSw0R_yXM",
        "outputId": "f6ba3909-3e2e-40e2-8498-d83c2ecb9a19"
      },
      "source": [
        "model.fit(X_train,y_train)"
      ],
      "execution_count": null,
      "outputs": [
        {
          "output_type": "stream",
          "text": [
            "Fitting 10 folds for each of 672 candidates, totalling 6720 fits\n"
          ],
          "name": "stdout"
        },
        {
          "output_type": "stream",
          "text": [
            "[Parallel(n_jobs=-1)]: Using backend LokyBackend with 2 concurrent workers.\n",
            "[Parallel(n_jobs=-1)]: Done 116 tasks      | elapsed:    4.5s\n",
            "[Parallel(n_jobs=-1)]: Done 716 tasks      | elapsed:   21.7s\n",
            "[Parallel(n_jobs=-1)]: Done 1716 tasks      | elapsed:   50.4s\n",
            "[Parallel(n_jobs=-1)]: Done 3116 tasks      | elapsed:  1.5min\n",
            "[Parallel(n_jobs=-1)]: Done 4916 tasks      | elapsed:  2.4min\n",
            "[Parallel(n_jobs=-1)]: Done 6720 out of 6720 | elapsed:  3.2min finished\n"
          ],
          "name": "stderr"
        },
        {
          "output_type": "execute_result",
          "data": {
            "text/plain": [
              "GridSearchCV(cv=10, error_score=nan,\n",
              "             estimator=XGBClassifier(base_score=0.5, booster='gbtree',\n",
              "                                     colsample_bylevel=1, colsample_bynode=1,\n",
              "                                     colsample_bytree=1, gamma=0,\n",
              "                                     learning_rate=1, max_delta_step=0,\n",
              "                                     max_depth=3, min_child_weight=1,\n",
              "                                     missing=None, n_estimators=100, n_jobs=1,\n",
              "                                     nthread=None, objective='binary:logistic',\n",
              "                                     random_state=0, reg_alpha=0, reg_lambda=1,\n",
              "                                     scale_pos...ed=None, silent=None,\n",
              "                                     subsample=1, verbosity=1),\n",
              "             iid='deprecated', n_jobs=-1,\n",
              "             param_grid=[{'clf__colsample_bytree': [0.1, 0.2],\n",
              "                          'clf__gamma': [0.0, 0.1, 0.2],\n",
              "                          'clf__learning_rate': [0.01, 0.1, 0.2, 0.3],\n",
              "                          'clf__max_depth': range(3, 10),\n",
              "                          'clf__n_estimators': [50, 100, 150, 200],\n",
              "                          'fs__k': [10]}],\n",
              "             pre_dispatch='2*n_jobs', refit=True, return_train_score=False,\n",
              "             scoring=None, verbose=1)"
            ]
          },
          "metadata": {
            "tags": []
          },
          "execution_count": 110
        }
      ]
    },
    {
      "cell_type": "code",
      "metadata": {
        "id": "oDzGYotvAp1o"
      },
      "source": [
        "model_pre=model.predict(X_test)"
      ],
      "execution_count": null,
      "outputs": []
    },
    {
      "cell_type": "code",
      "metadata": {
        "id": "iVgZ_QSiA57P"
      },
      "source": [
        "score=model.score(X_test,y_test)"
      ],
      "execution_count": null,
      "outputs": []
    },
    {
      "cell_type": "code",
      "metadata": {
        "colab": {
          "base_uri": "https://localhost:8080/"
        },
        "id": "I3F5PIqDBFLO",
        "outputId": "26e5dd20-88ac-430e-e3cf-0f775675ed02"
      },
      "source": [
        "score"
      ],
      "execution_count": null,
      "outputs": [
        {
          "output_type": "execute_result",
          "data": {
            "text/plain": [
              "0.9358974358974359"
            ]
          },
          "metadata": {
            "tags": []
          },
          "execution_count": 113
        }
      ]
    },
    {
      "cell_type": "code",
      "metadata": {
        "colab": {
          "base_uri": "https://localhost:8080/"
        },
        "id": "ZjNh2z3Siyqz",
        "outputId": "f207ffb9-9539-456f-92a5-112f2c0e3809"
      },
      "source": [
        "from sklearn.tree import DecisionTreeClassifier\n",
        "from sklearn.model_selection import GridSearchCV\n",
        "from sklearn.metrics import accuracy_score\n",
        "decitrr=DecisionTreeClassifier()\n",
        "decitrr.fit(X_train,y_train)\n",
        "decitrr.predict(X_test)"
      ],
      "execution_count": null,
      "outputs": [
        {
          "output_type": "execute_result",
          "data": {
            "text/plain": [
              "array([1, 1, 1, 1, 1, 1, 0, 1, 1, 0, 1, 1, 1, 1, 1, 1, 1, 1, 1, 1, 1, 1,\n",
              "       1, 1, 0, 1, 1, 1, 1, 1, 1, 1, 0, 1, 1, 1, 1, 1, 1, 1, 0, 1, 1, 1,\n",
              "       1, 1, 0, 1, 1, 1, 1, 1, 1, 1, 1, 1, 1, 1, 0, 1, 0, 1, 1, 0, 1, 1,\n",
              "       1, 1, 1, 1, 1, 1, 1, 1, 1, 1, 1, 0, 0, 0, 0, 1, 0, 1, 1, 1, 0, 0,\n",
              "       0, 1, 1, 1, 1, 1, 1, 1, 0, 0, 1, 1, 1, 1, 1, 0, 1, 1, 1, 1, 0, 1,\n",
              "       1, 1, 1, 1, 1, 0, 1, 1, 1, 1, 1, 1, 1, 0, 1, 1, 1, 1, 1, 0, 0, 1,\n",
              "       1, 0, 1, 1, 1, 0, 1, 1, 0, 1, 1, 1, 1, 1, 1, 1, 0, 1, 1, 1, 1, 1,\n",
              "       1, 1])"
            ]
          },
          "metadata": {
            "tags": []
          },
          "execution_count": 114
        }
      ]
    },
    {
      "cell_type": "code",
      "metadata": {
        "id": "ZR9FZ1-ui6aL"
      },
      "source": [
        "param_dict={\"criterion\":['gini','entropy'], \"max_depth\":range(1,10), \"min_samples_split\":range(1,10), \"min_samples_leaf\":range(1,5)}"
      ],
      "execution_count": null,
      "outputs": []
    },
    {
      "cell_type": "code",
      "metadata": {
        "id": "kr9AgK-Yi8or"
      },
      "source": [
        "grid=GridSearchCV(decitrr, param_grid=param_dict, cv=10, verbose=1, n_jobs=-1)"
      ],
      "execution_count": null,
      "outputs": []
    },
    {
      "cell_type": "code",
      "metadata": {
        "id": "8tMwIM5Ai-o6",
        "colab": {
          "base_uri": "https://localhost:8080/"
        },
        "outputId": "1631f045-0729-4bd7-9c8e-64201efe3509"
      },
      "source": [
        "grid.fit(X_train,y_train)"
      ],
      "execution_count": null,
      "outputs": [
        {
          "output_type": "stream",
          "text": [
            "[Parallel(n_jobs=-1)]: Using backend LokyBackend with 2 concurrent workers.\n"
          ],
          "name": "stderr"
        },
        {
          "output_type": "stream",
          "text": [
            "Fitting 10 folds for each of 648 candidates, totalling 6480 fits\n"
          ],
          "name": "stdout"
        },
        {
          "output_type": "stream",
          "text": [
            "[Parallel(n_jobs=-1)]: Done 1660 tasks      | elapsed:    4.3s\n",
            "[Parallel(n_jobs=-1)]: Done 6480 out of 6480 | elapsed:   17.7s finished\n"
          ],
          "name": "stderr"
        },
        {
          "output_type": "execute_result",
          "data": {
            "text/plain": [
              "GridSearchCV(cv=10, error_score=nan,\n",
              "             estimator=DecisionTreeClassifier(ccp_alpha=0.0, class_weight=None,\n",
              "                                              criterion='gini', max_depth=None,\n",
              "                                              max_features=None,\n",
              "                                              max_leaf_nodes=None,\n",
              "                                              min_impurity_decrease=0.0,\n",
              "                                              min_impurity_split=None,\n",
              "                                              min_samples_leaf=1,\n",
              "                                              min_samples_split=2,\n",
              "                                              min_weight_fraction_leaf=0.0,\n",
              "                                              presort='deprecated',\n",
              "                                              random_state=None,\n",
              "                                              splitter='best'),\n",
              "             iid='deprecated', n_jobs=-1,\n",
              "             param_grid={'criterion': ['gini', 'entropy'],\n",
              "                         'max_depth': range(1, 10),\n",
              "                         'min_samples_leaf': range(1, 5),\n",
              "                         'min_samples_split': range(1, 10)},\n",
              "             pre_dispatch='2*n_jobs', refit=True, return_train_score=False,\n",
              "             scoring=None, verbose=1)"
            ]
          },
          "metadata": {
            "tags": []
          },
          "execution_count": 117
        }
      ]
    },
    {
      "cell_type": "code",
      "metadata": {
        "colab": {
          "base_uri": "https://localhost:8080/"
        },
        "id": "dE8uCzMrjCAc",
        "outputId": "ec890c5d-99ca-4113-949e-fd03314364c3"
      },
      "source": [
        "grid.best_params_"
      ],
      "execution_count": null,
      "outputs": [
        {
          "output_type": "execute_result",
          "data": {
            "text/plain": [
              "{'criterion': 'entropy',\n",
              " 'max_depth': 9,\n",
              " 'min_samples_leaf': 1,\n",
              " 'min_samples_split': 3}"
            ]
          },
          "metadata": {
            "tags": []
          },
          "execution_count": 118
        }
      ]
    },
    {
      "cell_type": "code",
      "metadata": {
        "colab": {
          "base_uri": "https://localhost:8080/"
        },
        "id": "Hj_cyv7_jGZd",
        "outputId": "8269baa2-e71c-46cd-d959-0a5f106c2977"
      },
      "source": [
        "grid.best_estimator_"
      ],
      "execution_count": null,
      "outputs": [
        {
          "output_type": "execute_result",
          "data": {
            "text/plain": [
              "DecisionTreeClassifier(ccp_alpha=0.0, class_weight=None, criterion='entropy',\n",
              "                       max_depth=9, max_features=None, max_leaf_nodes=None,\n",
              "                       min_impurity_decrease=0.0, min_impurity_split=None,\n",
              "                       min_samples_leaf=1, min_samples_split=3,\n",
              "                       min_weight_fraction_leaf=0.0, presort='deprecated',\n",
              "                       random_state=None, splitter='best')"
            ]
          },
          "metadata": {
            "tags": []
          },
          "execution_count": 119
        }
      ]
    },
    {
      "cell_type": "code",
      "metadata": {
        "colab": {
          "base_uri": "https://localhost:8080/"
        },
        "id": "sMFdt4NZjI3f",
        "outputId": "8e474d73-0f23-4abf-e58d-2c892b6c45a5"
      },
      "source": [
        "grid.best_score_"
      ],
      "execution_count": null,
      "outputs": [
        {
          "output_type": "execute_result",
          "data": {
            "text/plain": [
              "0.925023126734505"
            ]
          },
          "metadata": {
            "tags": []
          },
          "execution_count": 120
        }
      ]
    },
    {
      "cell_type": "code",
      "metadata": {
        "id": "joWvyAayjLk_"
      },
      "source": [
        "from sklearn.ensemble import StackingClassifier"
      ],
      "execution_count": null,
      "outputs": []
    },
    {
      "cell_type": "code",
      "metadata": {
        "id": "AwkGSgD1jNk6"
      },
      "source": [
        "estimators = [('abc',AdaBoostClassifier(n_estimators=50,learning_rate=1,random_state=20)), ('dt', GridSearchCV(decitrr, param_grid=param_dict, cv=10, verbose=1, n_jobs=-1)), ('xgb', XGBClassifier(learning_rate=1))]"
      ],
      "execution_count": null,
      "outputs": []
    },
    {
      "cell_type": "code",
      "metadata": {
        "id": "eAhDy-uSjQG0"
      },
      "source": [
        "clf = StackingClassifier(estimators=estimators, final_estimator=SVC(kernel='linear',C=2))"
      ],
      "execution_count": null,
      "outputs": []
    },
    {
      "cell_type": "code",
      "metadata": {
        "colab": {
          "base_uri": "https://localhost:8080/"
        },
        "id": "CuFCCVeujYrf",
        "outputId": "cdacb177-d48b-402a-f6a2-2cb5a97812c0"
      },
      "source": [
        "clf.fit(X_train, y_train)"
      ],
      "execution_count": null,
      "outputs": [
        {
          "output_type": "stream",
          "text": [
            "[Parallel(n_jobs=-1)]: Using backend LokyBackend with 2 concurrent workers.\n"
          ],
          "name": "stderr"
        },
        {
          "output_type": "stream",
          "text": [
            "Fitting 10 folds for each of 648 candidates, totalling 6480 fits\n"
          ],
          "name": "stdout"
        },
        {
          "output_type": "stream",
          "text": [
            "[Parallel(n_jobs=-1)]: Done 1660 tasks      | elapsed:    4.0s\n",
            "[Parallel(n_jobs=-1)]: Done 6480 out of 6480 | elapsed:   16.4s finished\n"
          ],
          "name": "stderr"
        },
        {
          "output_type": "stream",
          "text": [
            "Fitting 10 folds for each of 648 candidates, totalling 6480 fits\n"
          ],
          "name": "stdout"
        },
        {
          "output_type": "stream",
          "text": [
            "[Parallel(n_jobs=-1)]: Using backend LokyBackend with 2 concurrent workers.\n",
            "[Parallel(n_jobs=-1)]: Done 1784 tasks      | elapsed:    4.2s\n",
            "[Parallel(n_jobs=-1)]: Done 6480 out of 6480 | elapsed:   15.7s finished\n",
            "[Parallel(n_jobs=-1)]: Using backend LokyBackend with 2 concurrent workers.\n"
          ],
          "name": "stderr"
        },
        {
          "output_type": "stream",
          "text": [
            "Fitting 10 folds for each of 648 candidates, totalling 6480 fits\n"
          ],
          "name": "stdout"
        },
        {
          "output_type": "stream",
          "text": [
            "[Parallel(n_jobs=-1)]: Done 1660 tasks      | elapsed:    3.8s\n",
            "[Parallel(n_jobs=-1)]: Done 6480 out of 6480 | elapsed:   15.7s finished\n",
            "[Parallel(n_jobs=-1)]: Using backend LokyBackend with 2 concurrent workers.\n"
          ],
          "name": "stderr"
        },
        {
          "output_type": "stream",
          "text": [
            "Fitting 10 folds for each of 648 candidates, totalling 6480 fits\n"
          ],
          "name": "stdout"
        },
        {
          "output_type": "stream",
          "text": [
            "[Parallel(n_jobs=-1)]: Done 1660 tasks      | elapsed:    3.9s\n",
            "[Parallel(n_jobs=-1)]: Done 6480 out of 6480 | elapsed:   15.6s finished\n",
            "[Parallel(n_jobs=-1)]: Using backend LokyBackend with 2 concurrent workers.\n"
          ],
          "name": "stderr"
        },
        {
          "output_type": "stream",
          "text": [
            "Fitting 10 folds for each of 648 candidates, totalling 6480 fits\n"
          ],
          "name": "stdout"
        },
        {
          "output_type": "stream",
          "text": [
            "[Parallel(n_jobs=-1)]: Done 1660 tasks      | elapsed:    3.8s\n",
            "[Parallel(n_jobs=-1)]: Done 6480 out of 6480 | elapsed:   15.6s finished\n",
            "[Parallel(n_jobs=-1)]: Using backend LokyBackend with 2 concurrent workers.\n"
          ],
          "name": "stderr"
        },
        {
          "output_type": "stream",
          "text": [
            "Fitting 10 folds for each of 648 candidates, totalling 6480 fits\n"
          ],
          "name": "stdout"
        },
        {
          "output_type": "stream",
          "text": [
            "[Parallel(n_jobs=-1)]: Done 1660 tasks      | elapsed:    3.8s\n",
            "[Parallel(n_jobs=-1)]: Done 6480 out of 6480 | elapsed:   15.6s finished\n"
          ],
          "name": "stderr"
        },
        {
          "output_type": "execute_result",
          "data": {
            "text/plain": [
              "StackingClassifier(cv=None,\n",
              "                   estimators=[('abc',\n",
              "                                AdaBoostClassifier(algorithm='SAMME.R',\n",
              "                                                   base_estimator=None,\n",
              "                                                   learning_rate=1,\n",
              "                                                   n_estimators=50,\n",
              "                                                   random_state=20)),\n",
              "                               ('dt',\n",
              "                                GridSearchCV(cv=10, error_score=nan,\n",
              "                                             estimator=DecisionTreeClassifier(ccp_alpha=0.0,\n",
              "                                                                              class_weight=None,\n",
              "                                                                              criterion='gini',\n",
              "                                                                              max_depth=None,\n",
              "                                                                              max_features=None,\n",
              "                                                                              max_leaf_nodes=None,\n",
              "                                                                              min_impurity_decrea...\n",
              "                                              seed=None, silent=None,\n",
              "                                              subsample=1, verbosity=1))],\n",
              "                   final_estimator=SVC(C=2, break_ties=False, cache_size=200,\n",
              "                                       class_weight=None, coef0=0.0,\n",
              "                                       decision_function_shape='ovr', degree=3,\n",
              "                                       gamma='scale', kernel='linear',\n",
              "                                       max_iter=-1, probability=False,\n",
              "                                       random_state=None, shrinking=True,\n",
              "                                       tol=0.001, verbose=False),\n",
              "                   n_jobs=None, passthrough=False, stack_method='auto',\n",
              "                   verbose=0)"
            ]
          },
          "metadata": {
            "tags": []
          },
          "execution_count": 124
        }
      ]
    },
    {
      "cell_type": "code",
      "metadata": {
        "id": "D7tC36BbjcfQ"
      },
      "source": [
        "clf_pre=clf.predict(X_test)"
      ],
      "execution_count": null,
      "outputs": []
    },
    {
      "cell_type": "code",
      "metadata": {
        "id": "8tVE7sAOjmNh"
      },
      "source": [
        "clf_score=clf.score(X_test,y_test)"
      ],
      "execution_count": null,
      "outputs": []
    },
    {
      "cell_type": "code",
      "metadata": {
        "colab": {
          "base_uri": "https://localhost:8080/"
        },
        "id": "HzEaoFbkjoOB",
        "outputId": "87898397-223e-4604-d0bc-b1a691c49561"
      },
      "source": [
        "clf_score"
      ],
      "execution_count": null,
      "outputs": [
        {
          "output_type": "execute_result",
          "data": {
            "text/plain": [
              "0.9358974358974359"
            ]
          },
          "metadata": {
            "tags": []
          },
          "execution_count": 127
        }
      ]
    }
  ]
}